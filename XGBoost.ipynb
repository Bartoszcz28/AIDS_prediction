{
 "cells": [
  {
   "cell_type": "code",
   "execution_count": 12,
   "metadata": {},
   "outputs": [],
   "source": [
    "import numpy as np\n",
    "import pandas as pd\n",
    "import matplotlib.pyplot as plt\n",
    "import seaborn as sns\n",
    "import xgboost as xgb\n",
    "from sklearn.model_selection import train_test_split, RandomizedSearchCV\n",
    "from sklearn.metrics import accuracy_score\n"
   ]
  },
  {
   "cell_type": "code",
   "execution_count": 13,
   "metadata": {},
   "outputs": [],
   "source": [
    "aids_t = pd.read_csv('data/aids_t.csv')\n",
    "X = aids_t.drop(columns=['infected'])\n",
    "y = aids_t['infected']"
   ]
  },
  {
   "cell_type": "code",
   "execution_count": 14,
   "metadata": {},
   "outputs": [],
   "source": [
    "X_train, X_test, y_train, y_test = train_test_split(X, y, test_size=0.3, random_state=42)"
   ]
  },
  {
   "cell_type": "code",
   "execution_count": 15,
   "metadata": {},
   "outputs": [
    {
     "name": "stdout",
     "output_type": "stream",
     "text": [
      "Fitting 3 folds for each of 10 candidates, totalling 30 fits\n",
      "Best Parameters: {'subsample': 0.9, 'max_depth': 3, 'gamma': 0.3, 'eta': 0.1, 'colsample_bytree': 0.9}\n",
      "Accuracy: 70.61%\n"
     ]
    }
   ],
   "source": [
    "dtrain = xgb.DMatrix(data=X_train, label=y_train)\n",
    "dtest = xgb.DMatrix(data=X_test)\n",
    "\n",
    "# Define the parameter grid for RandomizedSearchCV\n",
    "param_grid = {\n",
    "    'max_depth': np.arange(3, 10),      # Range of max_depth values to search\n",
    "    'eta': [0.1, 0.01, 0.001],          # Learning rate values to search\n",
    "    'gamma': [0, 0.1, 0.2, 0.3],       # Gamma values to search\n",
    "    'subsample': [0.6, 0.7, 0.8, 0.9], # Subsample values to search\n",
    "    'colsample_bytree': [0.6, 0.7, 0.8, 0.9],  # colsample_bytree values to search\n",
    "}\n",
    "\n",
    "# Create an XGBoost classifier\n",
    "xtb_classifier = xgb.XGBClassifier(\n",
    "    objective='multi:softmax',\n",
    "    num_class=len(np.unique(y_train)),\n",
    "    eval_metric='merror'\n",
    "\n",
    ")\n",
    "\n",
    "# Create RandomizedSearchCV object\n",
    "random_search = RandomizedSearchCV(\n",
    "    xtb_classifier,\n",
    "    param_distributions=param_grid,\n",
    "    n_iter=10,  # Number of random parameter combinations to try\n",
    "    scoring='accuracy',  # Use an appropriate scoring metric\n",
    "    cv=3,  # Number of cross-validation folds\n",
    "    verbose=2,\n",
    "    n_jobs=-1,  # Use all available CPU cores\n",
    "    random_state=42\n",
    ")\n",
    "\n",
    "# Fit the RandomizedSearchCV to the training data\n",
    "random_search.fit(X_train, y_train)\n",
    "\n",
    "# Get the best model from RandomizedSearchCV\n",
    "best_model_r = random_search.best_estimator_\n",
    "\n",
    "# Make predictions on test data using the best model\n",
    "y_pred_xgb_r = best_model_r.predict(X_test)\n",
    "\n",
    "# Print the best parameters and the accuracy of the best model\n",
    "print(\"Best Parameters:\", random_search.best_params_)\n",
    "\n",
    "# Evaluation of classification results\n",
    "accuracy_xgb_r = accuracy_score(y_test, y_pred_xgb_r)\n",
    "print(\"Accuracy: %.2f%%\" % (accuracy_xgb_r * 100.0))"
   ]
  },
  {
   "cell_type": "code",
   "execution_count": null,
   "metadata": {},
   "outputs": [],
   "source": []
  }
 ],
 "metadata": {
  "language_info": {
   "name": "python"
  }
 },
 "nbformat": 4,
 "nbformat_minor": 2
}
